{
  "cells": [
    {
      "cell_type": "code",
      "execution_count": null,
      "metadata": {
        "id": "jot0TGmz1gU5"
      },
      "outputs": [],
      "source": [
        "\"\"\"\n",
        "把點雲進行三維重建\n",
        "input: 點雲(.csv), 相機係數\n",
        "這份是從 Simple, Accurate, and Robust Projector-Camera Calibration(https://ieeexplore.ieee.org/document/6375029)\n",
        "這篇paper給的.cpp code 裡面改過來的\n",
        "\"\"\""
      ]
    },
    {
      "cell_type": "code",
      "execution_count": 1,
      "metadata": {
        "id": "9NIetwlv1gU9"
      },
      "outputs": [],
      "source": [
        "import numpy as np\n",
        "import cv2\n",
        "import csv\n",
        "import open3d as o3d"
      ]
    },
    {
      "cell_type": "code",
      "execution_count": 2,
      "metadata": {
        "id": "1SCvMBjN1gU-"
      },
      "outputs": [],
      "source": [
        "class Pointcloud:\n",
        "    def __init__(self):\n",
        "        self.points = np.empty((0))\n",
        "        self.colors = np.empty((0))\n",
        "        self.normals = np.empty((0))\n",
        "    def clear(self):\n",
        "        self.points = np.empty((0))\n",
        "        self.colors = np.empty((0))\n",
        "        self.normals = np.empty((0))\n",
        "\n",
        "    def init_points(self, row, column):\n",
        "        self.points = np.full((row, column, 3), np.nan)  # CV_32FC3\n",
        "    def init_colors(self, row, column):\n",
        "        self.colors = np.full((row, column, 3), 255)  # CV_8UC3\n",
        "    def init_normals(self, row, column):\n",
        "        self.normals = np.full((row, column, 3), np.nan)  # CV_32FC3\n"
      ]
    },
    {
      "cell_type": "code",
      "execution_count": 3,
      "metadata": {
        "id": "OKuv7t1y1gU-"
      },
      "outputs": [],
      "source": [
        "# Calibration parameter\n",
        "class CalibrationData:\n",
        "    def __init__(self, cam_k, cam_kc, proj_k, proj_kc, R, T,\n",
        "                 cam_err, proj_err, stereo_err):\n",
        "        self.cam_k = cam_k\n",
        "        self.cam_kc = cam_kc\n",
        "        self.proj_k = proj_k\n",
        "        self.proj_kc = cam_kc\n",
        "        self.R = R\n",
        "        self.T = T\n",
        "        self.cam_err = cam_err\n",
        "        self.proj_err = proj_err\n",
        "        self.stereo_err = stereo_err"
      ]
    },
    {
      "cell_type": "code",
      "execution_count": 4,
      "metadata": {
        "id": "4XsvJm1K1gU_"
      },
      "outputs": [],
      "source": [
        "# cv::Point3d scan3d::approximate_ray_intersection(const cv::Point3d & v1, const cv::Point3d & q1,\n",
        "#                                                     const cv::Point3d & v2, const cv::Point3d & q2,\n",
        "#                                                     double * distance, double * out_lambda1, double * out_lambda2)\n",
        "def approximate_ray_intersection(v1, q1, v2, q2):\n",
        "    v1tv1 = np.dot(v1, v1.transpose())  # double\n",
        "    v2tv2 = np.dot(v2, v2.transpose())\n",
        "    v1tv2 = np.dot(v1, v2.transpose())\n",
        "    v2tv1 = np.dot(v2, v1.transpose())\n",
        "    detV = v1tv1*v2tv2 - v1tv2*v2tv1 #double\n",
        "    # Vinv.at<double>(0,0) = v2tv2/detV;  Vinv.at<double>(0,1) = v1tv2/detV;\n",
        "    # Vinv.at<double>(1,0) = v2tv1/detV; Vinv.at<double>(1,1) = v1tv1/detV;\n",
        "    Vinv = np.array([[v2tv2, v1tv2], [v2tv1, v1tv1]])\n",
        "    Vinv = Vinv/detV\n",
        "\n",
        "    q2_q1 = q2-q1\n",
        "    # double Q1 = v1.x*q2_q1.x + v1.y*q2_q1.y + v1.z*q2_q1.z;\n",
        "    # double Q2 = -(v2.x*q2_q1.x + v2.y*q2_q1.y + v2.z*q2_q1.z);\n",
        "    Q1 = v1[0]*q2_q1[0]+v1[1]*q2_q1[1]+v1[2]*q2_q1[2]\n",
        "    Q2 = -(v2[0]*q2_q1[0]+v2[1]*q2_q1[1]+v2[2]*q2_q1[2])\n",
        "    lambda1 = (v2tv2*Q1+v1tv2*Q2)/detV#double\n",
        "    lambda2 = (v2tv1*Q1+v1tv1*Q2)/detV\n",
        "    p1 = lambda1*v1+q1\n",
        "    p2 = lambda2*v2+q2\n",
        "    p = 0.5*(p1+p2)\n",
        "    # if distance is not None:  # ???\n",
        "    distance = cv2.norm(p2-p1)\n",
        "    # 中間有改lamda的東西應該沒關西嗎???\n",
        "    return p, distance"
      ]
    },
    {
      "cell_type": "code",
      "execution_count": 5,
      "metadata": {
        "id": "WT9QISep1gVA"
      },
      "outputs": [],
      "source": [
        "# void scan3d::triangulate_stereo(const cv::Mat & K1, const cv::Mat & kc1, const cv::Mat & K2, const cv::Mat & kc2,\n",
        "#                                   const cv::Mat & Rt, const cv::Mat & T, const cv::Point2d & p1, const cv::Point2d & p2,\n",
        "#                                   cv::Point3d & p3d, double * distance)\n",
        "def triangulate_stereo(K1, kc1, K2, kc2, Rt, T, p1, p2):\n",
        "    # inp1 = np.zeros((1,1,2))#這邊應該是p1的點啦\n",
        "    # inp2 = np.zeros((1,1,2))#這邊應該是p2的點吧\n",
        "    # outp1 = cv2.undistortPoints(inp1, K1, kc1)\n",
        "    # outp2 = cv2.undistortPoints(inp2, K2, kc2)\n",
        "    # assert(outp1.type()==CV_64FC2 && outp1.rows==1 && outp1.cols==1)終止程式\n",
        "    # u1 = np.array([inp1[0],inp1[1],1.0])\n",
        "    # u2 = np.array([inp2[0],inp2[1],1.0])\n",
        "    outp1 = cv2.undistortPoints(p1, K1, kc1) #根據相機參數和觀測到點座標位置計算實際座標位置\n",
        "    outp2 = cv2.undistortPoints(p2, K2, kc2)\n",
        "    u1 = np.array([outp1[0,0,0], outp1[0,0,1], 1.0])\n",
        "    u2 = np.array([outp2[0,0,0], outp2[0,0,1], 1.0])\n",
        "    # to world coordinates\n",
        "    w1 = u1\n",
        "    w2 = np.dot(Rt,(u2-T))\n",
        "    # w2 = cv::Point3d(cv::Mat(Rt*(cv::Mat(u2) - T)));\n",
        "\n",
        "    # world rays\n",
        "    v1 = w1\n",
        "    v2 = np.dot(Rt, u2)\n",
        "    # compute ray-ray approximate intersection\n",
        "    # p3d = np.zeros((3))\n",
        "    p3d, distance = approximate_ray_intersection(v1, w1, v2, w2)\n",
        "    return p3d, distance"
      ]
    },
    {
      "cell_type": "code",
      "execution_count": 6,
      "metadata": {
        "id": "lVM7FwAq1gVB"
      },
      "outputs": [],
      "source": [
        "def reconstruct(calib, pattern_list, return_p): # max dist 感覺是判斷\n",
        "    # retrun_p = np.empty(shape=[3,3])\n",
        "    for i in range(pattern_list.shape[0]):  # 每一組對應的proj-cam\n",
        "        p2 = np.array([pattern_list[i][0], pattern_list[i][1]])  # proj_point\n",
        "        p1 = np.array([pattern_list[i][2], pattern_list[i][3]])  # cam_point\n",
        "        R_t = calib.R.T # transpose\n",
        "        p, distance = triangulate_stereo(calib.cam_k, calib.cam_kc, calib.proj_k, calib.proj_kc, R_t, calib.T, p1, p2)\n",
        "        return_p = np.append(return_p, [p], axis=0)\n",
        "    return return_p"
      ]
    },
    {
      "cell_type": "code",
      "execution_count": 14,
      "metadata": {
        "id": "BfRU9ymt1gVD"
      },
      "outputs": [],
      "source": [
        "pointcloud = Pointcloud()\n",
        "\n",
        "cam_k = np.array([[2.79785046e+03, 0.00000000e+00, 6.43670471e+02],\n",
        "  [0, 2.84502856e+03, 1.07247008e+03],\n",
        "  [0, 0, 1]])\n",
        "cam_kc = np.array([[-0.89151335,  3.98951334, -0.07131889,  0.03804235, -8.48680502]])\n",
        "proj_k = np.array([[1.96033608e+03, 0, 4.38923940e+02],\n",
        "  [0, 5.98626108e+03, 5.77459005e+02],\n",
        "  [0, 0, 1]])\n",
        "proj_kc = np.array([[-9.43865235e+00,  1.02462776e+03, -8.85666070e-01, -5.39344800e-03, -1.89992224e+04]])\n",
        "R = np.array([[0.99249327,  0.06323686, -0.10468148],\n",
        "  [-0.10828452,  0.85223621, -0.511828],\n",
        "  [ 0.05684695,  0.51932123,  0.85268628]])\n",
        "T = np.array([-0.31667535, 36.92459112, 62.01244307])\n",
        "cam_err = 0.166797\n",
        "proj_err = 0.101493\n",
        "stereo_err = 0.158868\n",
        "\n",
        "\n",
        "calib = CalibrationData(cam_k, cam_kc, proj_k, proj_kc, R, T,\n",
        "                 cam_err, proj_err, stereo_err)\n",
        "\n",
        "# proj_size = np.array([1024, 768])\n",
        "proj_size = np.array([1280, 800])\n",
        "threshold = 25 #in scan3d-capture.exe\n"
      ]
    },
    {
      "cell_type": "code",
      "execution_count": null,
      "metadata": {
        "id": "8zmFRmFb1gVE"
      },
      "outputs": [],
      "source": [
        "folder = '/content/drive/MyDrive/lab/experiment/1225/'\n",
        "text = 'output_m1.csv'\n",
        "\n",
        "\n",
        "pattern_list = np.empty(shape=[0, 4])\n",
        "with open(folder+text, newline='') as csvfile:\n",
        "    rows = csv.reader(csvfile)\n",
        "    for row in rows:\n",
        "        pattern_list = np.append(pattern_list, [[float(row[0]), float(row[1]), float(row[2]), float(row[3])]], axis=0)\n",
        "\n",
        "pattern_list"
      ]
    },
    {
      "cell_type": "code",
      "execution_count": 10,
      "metadata": {
        "id": "UqcrB_rz6k_h"
      },
      "outputs": [],
      "source": [
        "def read_pro_txtfile(file_name):\n",
        "  pattern_list = np.empty(shape=[0, 4])\n",
        "  with open(file_name, newline='') as pro_file:\n",
        "      for row in pro_file.readlines():\n",
        "        p1, p2, p3, p4 = row.split(\" \")\n",
        "        pattern_list = np.append(pattern_list, [[float(p1), float(p2), float(p3), float(p4)]], axis=0)\n",
        "\n",
        "  print(f'find {len(pattern_list)} points')\n",
        "  return pattern_list"
      ]
    },
    {
      "cell_type": "code",
      "execution_count": null,
      "metadata": {
        "id": "F1hJ5xuD1gVF"
      },
      "outputs": [],
      "source": [
        "return_p = np.empty(shape=[0, 3])\n",
        "return_p = reconstruct(calib, pattern_list, return_p)"
      ]
    },
    {
      "cell_type": "code",
      "execution_count": 12,
      "metadata": {
        "colab": {
          "base_uri": "https://localhost:8080/",
          "height": 34
        },
        "id": "IjMw48hV1gVG",
        "outputId": "3c985ec6-2214-41e9-c7d1-923ad19746a1"
      },
      "outputs": [
        {
          "data": {
            "text/plain": [
              "True"
            ]
          },
          "execution_count": 12,
          "metadata": {},
          "output_type": "execute_result"
        }
      ],
      "source": [
        "# 3D reconstruction\n",
        "import open3d as o3d\n",
        "pcd = o3d.geometry.PointCloud()\n",
        "pcd.points = o3d.utility.Vector3dVector(return_p)\n",
        "o3d.io.write_point_cloud(folder+\"1225_b_plane.ply\", pcd)"
      ]
    },
    {
      "cell_type": "code",
      "execution_count": 18,
      "metadata": {
        "colab": {
          "base_uri": "https://localhost:8080/"
        },
        "id": "It1Z838s7E3q",
        "outputId": "4cccc9f1-f676-4e26-c73a-83972ecfcb86"
      },
      "outputs": [
        {
          "name": "stdout",
          "output_type": "stream",
          "text": [
            "find 28 points\n",
            "construct 28 3D point\n"
          ]
        }
      ],
      "source": [
        "folder = '0720_2'\n",
        "\n",
        "for i in range(0, 1):\n",
        "  ftext = f'{folder}/test_{i}_cut/project.txt'\n",
        "  pattern_list = read_pro_txtfile(ftext)\n",
        "\n",
        "  return_p = np.empty(shape=[0, 3])\n",
        "  return_p = reconstruct(calib, pattern_list, return_p)\n",
        "  print(f'construct {len(return_p)} 3D point')\n",
        "  pcd = o3d.geometry.PointCloud()\n",
        "  pcd.points = o3d.utility.Vector3dVector(return_p)\n",
        "  o3d.io.write_point_cloud(f\"{folder}/3D_{i}.ply\", pcd)"
      ]
    }
  ],
  "metadata": {
    "colab": {
      "provenance": []
    },
    "kernelspec": {
      "display_name": "Python 3",
      "language": "python",
      "name": "python3"
    },
    "language_info": {
      "codemirror_mode": {
        "name": "ipython",
        "version": 3
      },
      "file_extension": ".py",
      "mimetype": "text/x-python",
      "name": "python",
      "nbconvert_exporter": "python",
      "pygments_lexer": "ipython3",
      "version": "3.9.0"
    }
  },
  "nbformat": 4,
  "nbformat_minor": 0
}
